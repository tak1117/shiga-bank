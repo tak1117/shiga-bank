{
  "cells": [
    {
      "cell_type": "markdown",
      "metadata": {
        "id": "TCh9BTedHJK1"
      },
      "source": [
        "![pageindex_banner](https://pageindex.ai/static/images/pageindex_banner.jpg)"
      ]
    },
    {
      "cell_type": "markdown",
      "metadata": {
        "id": "nD0hb4TFHWTt"
      },
      "source": [
        "<p align=\"center\"><i>Reasoning-based RAG&nbsp; ✧ &nbsp;No Vector DB&nbsp; ✧ &nbsp;No Chunking&nbsp; ✧ &nbsp;Human-like Retrieval</i></p>\n",
        "\n",
        "<p align=\"center\">\n",
        "  <a href=\"https://vectify.ai\">🏠 Homepage</a>&nbsp; • &nbsp;\n",
        "  <a href=\"https://dash.pageindex.ai\">🖥️ Dashboard</a>&nbsp; • &nbsp;\n",
        "  <a href=\"https://docs.pageindex.ai/quickstart\">📚 API Docs</a>&nbsp; • &nbsp;\n",
        "  <a href=\"https://github.com/VectifyAI/PageIndex\">📦 GitHub</a>&nbsp; • &nbsp;\n",
        "  <a href=\"https://discord.com/invite/VuXuf29EUj\">💬 Discord</a>&nbsp; • &nbsp;\n",
        "  <a href=\"https://ii2abc2jejf.typeform.com/to/tK3AXl8T\">✉️ Contact</a>&nbsp;\n",
        "</p>\n",
        "\n",
        "<div align=\"center\">\n",
        "\n",
        "[![Star us on GitHub](https://img.shields.io/github/stars/VectifyAI/PageIndex?style=for-the-badge&logo=github&label=⭐️%20Star%20Us)](https://github.com/VectifyAI/PageIndex) &nbsp;&nbsp; [![Follow us on X](https://img.shields.io/badge/Follow%20Us-000000?style=for-the-badge&logo=x&logoColor=white)](https://twitter.com/VectifyAI)\n",
        "\n",
        "</div>\n",
        "\n",
        "---"
      ]
    },
    {
      "cell_type": "markdown",
      "metadata": {
        "id": "Ebvn5qfpcG1K"
      },
      "source": [
        "# Simple Vectorless RAG with PageIndex"
      ]
    },
    {
      "cell_type": "markdown",
      "metadata": {},
      "source": [
        "## PageIndex Introduction\n",
        "PageIndex is a new **reasoning-based**, **vectorless RAG** framework that performs retrieval in two steps:  \n",
        "1. Generate a tree structure index of documents  \n",
        "2. Perform reasoning-based retrieval through tree search  \n",
        "\n",
        "<div align=\"center\">\n",
        "  <img src=\"https://docs.pageindex.ai/images/cookbook/vectorless-rag.png\" width=\"70%\">\n",
        "</div>\n",
        "\n",
        "Compared to traditional vector-based RAG, PageIndex features:\n",
        "- **No Vectors Needed**: Uses document structure and LLM reasoning for retrieval.\n",
        "- **No Chunking Needed**: Documents are organized into natural sections rather than artificial chunks.\n",
        "- **Human-like Retrieval**: Simulates how human experts navigate and extract knowledge from complex documents. \n",
        "- **Transparent Retrieval Process**: Retrieval based on reasoning — say goodbye to approximate semantic search (\"vibe retrieval\")."
      ]
    },
    {
      "cell_type": "markdown",
      "metadata": {},
      "source": [
        "## 📝 Notebook Overview\n",
        "\n",
        "This notebook demonstrates a simple, minimal example of **vectorless RAG** with PageIndex. You will learn how to:\n",
        "- [x] Build a PageIndex tree structure of a document\n",
        "- [x] Perform reasoning-based retrieval with tree search\n",
        "- [x] Generate answers based on the retrieved context\n",
        "\n",
        "> ⚡ Note: This is a **minimal example** to illustrate PageIndex's core philosophy and idea, not its full capabilities. More advanced examples are coming soon.\n",
        "\n",
        "---"
      ]
    },
    {
      "cell_type": "markdown",
      "metadata": {
        "id": "7ziuTbbWcG1L"
      },
      "source": [
        "## Step 0: Preparation\n",
        "\n"
      ]
    },
    {
      "cell_type": "markdown",
      "metadata": {
        "id": "edTfrizMFK4c"
      },
      "source": [
        "#### 0.1 Install PageIndex"
      ]
    },
    {
      "cell_type": "code",
      "execution_count": 1,
      "metadata": {
        "collapsed": true,
        "id": "LaoB58wQFNDh"
      },
      "outputs": [
        {
          "name": "stdout",
          "output_type": "stream",
          "text": [
            "Note: you may need to restart the kernel to use updated packages.\n"
          ]
        },
        {
          "name": "stderr",
          "output_type": "stream",
          "text": [
            "\n",
            "[notice] A new release of pip is available: 25.1.1 -> 25.2\n",
            "[notice] To update, run: python.exe -m pip install --upgrade pip\n"
          ]
        }
      ],
      "source": [
        "%pip install -q --upgrade pageindex"
      ]
    },
    {
      "cell_type": "markdown",
      "metadata": {
        "id": "WVEWzPKGcG1M"
      },
      "source": [
        "#### 0.2 Setup PageIndex"
      ]
    },
    {
      "cell_type": "code",
      "execution_count": 2,
      "metadata": {
        "id": "StvqfcK4cG1M"
      },
      "outputs": [],
      "source": [
        "from pageindex import PageIndexClient\n",
        "import pageindex.utils as utils\n",
        "import os\n",
        "from dotenv import load_dotenv\n",
        "\n",
        "load_dotenv()\n",
        "\n",
        "# Get your PageIndex API key from https://dash.pageindex.ai/api-keys\n",
        "PAGEINDEX_API_KEY = os.getenv(\"PAGEINDEX_API_KEY\")\n",
        "if not PAGEINDEX_API_KEY:\n",
        "        raise ValueError(\"PAGEINDEX_API_KEY が .env ファイルに設定されていません。\")\n",
        "pi_client = PageIndexClient(api_key=PAGEINDEX_API_KEY)"
      ]
    },
    {
      "cell_type": "markdown",
      "metadata": {},
      "source": [
        "#### 0.3 Setup LLM\n",
        "\n",
        "Choose your preferred LLM for reasoning-based retrieval. In this example, we use OpenAI’s GPT-4.1."
      ]
    },
    {
      "cell_type": "code",
      "execution_count": 3,
      "metadata": {},
      "outputs": [],
      "source": [
        "from openai import AsyncAzureOpenAI \n",
        "import os\n",
        "\n",
        "AZURE_OPENAI_KEY = os.getenv(\"AZURE_OPENAI_API_KEY\")\n",
        "AZURE_OPENAI_ENDPOINT = os.getenv(\"AZURE_OPENAI_ENDPOINT\")\n",
        "AZURE_OPENAI_API_VERSION = os.getenv(\"AZURE_OPENAI_API_VERSION\")\n",
        "AZURE_OPENAI_DEPLOYMENT = os.getenv(\"AZURE_OPENAI_DEPLOYMENT\") \n",
        "\n",
        "if not all([AZURE_OPENAI_KEY, AZURE_OPENAI_ENDPOINT, AZURE_OPENAI_API_VERSION, AZURE_OPENAI_DEPLOYMENT]):\n",
        "    raise ValueError(\"Azure OpenAIの環境変数が.envファイルに正しく設定されていません。(AZURE_OPENAI_API_KEY, AZURE_OPENAI_ENDPOINT, AZURE_OPENAI_API_VERSION, AZURE_OPENAI_DEPLOYMENT)\")\n",
        "\n",
        "async def call_llm(prompt, temperature=0):\n",
        "    client = AsyncAzureOpenAI(\n",
        "        api_key=AZURE_OPENAI_KEY,\n",
        "        azure_endpoint=AZURE_OPENAI_ENDPOINT,\n",
        "        api_version=AZURE_OPENAI_API_VERSION,\n",
        "    )\n",
        "    response = await client.chat.completions.create(\n",
        "        model=AZURE_OPENAI_DEPLOYMENT, \n",
        "        messages=[{\"role\": \"user\", \"content\": prompt}],\n",
        "        temperature=temperature\n",
        "    )\n",
        "    return response.choices[0].message.content.strip()"
      ]
    },
    {
      "cell_type": "markdown",
      "metadata": {
        "id": "heGtIMOVcG1N"
      },
      "source": [
        "## Step 1: PageIndex Tree Generation"
      ]
    },
    {
      "cell_type": "markdown",
      "metadata": {
        "id": "Mzd1VWjwMUJL"
      },
      "source": [
        "#### 1.1 Submit a document for generating PageIndex tree"
      ]
    },
    {
      "cell_type": "code",
      "execution_count": 4,
      "metadata": {
        "colab": {
          "base_uri": "https://localhost:8080/"
        },
        "id": "f6--eZPLcG1N",
        "outputId": "ca688cfd-6c4b-4a57-dac2-f3c2604c4112"
      },
      "outputs": [
        {
          "name": "stdout",
          "output_type": "stream",
          "text": [
            "ローカルファイル 'merged_document.pdf' を送信します...\n",
            "Document Submitted: pi-cmh3i108z04o50cr1zg9ytcci\n"
          ]
        }
      ],
      "source": [
        "import os \n",
        "# requests はダウンロード不要なため削除\n",
        "\n",
        "# 送信するローカルファイルのパスを指定\n",
        "pdf_path = \"merged_document.pdf\"\n",
        "\n",
        "# ファイルが本当に存在するかを確認\n",
        "if os.path.exists(pdf_path):\n",
        "    print(f\"ローカルファイル '{pdf_path}' を送信します...\")\n",
        "    \n",
        "    # PageIndexクライアントに 'merged_document.pdf' を送信\n",
        "    doc_id = pi_client.submit_document(pdf_path)[\"doc_id\"]\n",
        "    print('Document Submitted:', doc_id)\n",
        "else:\n",
        "    print(f\"エラー: ファイル '{pdf_path}' が見つかりません。\")\n",
        "    print(\"スクリプトと同じディレクトリに 'merged_document.pdf' があるか確認してください。\")"
      ]
    },
    {
      "cell_type": "markdown",
      "metadata": {
        "id": "4-Hrh0azcG1N"
      },
      "source": [
        "#### 1.2 Get the generated PageIndex tree structure"
      ]
    },
    {
      "cell_type": "code",
      "execution_count": 6,
      "metadata": {
        "colab": {
          "base_uri": "https://localhost:8080/",
          "height": 1000
        },
        "id": "b1Q1g6vrcG1O",
        "outputId": "dc944660-38ad-47ea-d358-be422edbae53"
      },
      "outputs": [
        {
          "name": "stdout",
          "output_type": "stream",
          "text": [
            "Simplified Tree Structure of the Document:\n",
            "[{'title': '第1章 当座預金',\n",
            "  'node_id': '0000',\n",
            "  'prefix_summary': '# 第1章 当座預金\\n',\n",
            "  'nodes': [{'title': '第1節 基本業務',\n",
            "             'node_id': '0001',\n",
            "             'prefix_summary': '## 第1節 基本業務\\n',\n",
            "             'nodes': [{'title': '第1項 一般事項',\n",
            "                        'node_id': '0002',\n",
            "                        'summary': 'This document outlines the general matte...'},\n",
            "                       {'title': '第2項 口座開設申込者の信用調査',\n",
            "                        'node_id': '0003',\n",
            "                        'prefix_summary': 'This section details the credit investig...',\n",
            "                        'nodes': [{'title': '1. 申込書の取入れ',\n",
            "                                   'node_id': '0004',\n",
            "                                   'summary': 'This document outlines the procedure for...'},\n",
            "                                  {'title': '2. 実態の確認',\n",
            "                                   'node_id': '0005',\n",
            "                                   'summary': '#### 2. 実態の確認\\n\\n(1) 申込者からの聴取、関係書類の取入などにより...'},\n",
            "                                  {'title': '【記入例一2】参照',\n",
            "                                   'node_id': '0006',\n",
            "                                   'summary': 'The text outlines procedures for verifyi...'},\n",
            "                                  {'title': '3. 信用状況の確認',\n",
            "                                   'node_id': '0007',\n",
            "                                   'summary': 'This section details the process of conf...'},\n",
            "                                  {'title': '4. 権利能力・行為能力の確認',\n",
            "                                   'node_id': '0008',\n",
            "                                   'summary': 'This text outlines the procedures for co...'},\n",
            "                                  {'title': '5. 取引開始後の信用調査',\n",
            "                                   'node_id': '0009',\n",
            "                                   'summary': '#### 5. 取引開始後の信用調査\\n\\n(1) 取引開始後も取引先の資産・信用状...'},\n",
            "                                  {'title': '6. 不渡報告・取引停止報告の日常管理',\n",
            "                                   'node_id': '0010',\n",
            "                                   'summary': 'The text covers the daily management of ...'},\n",
            "                                  {'title': '1. 店内協議',\n",
            "                                   'node_id': '0011',\n",
            "                                   'summary': 'This document outlines the internal disc...'},\n",
            "                                  {'title': '2. 店長承認',\n",
            "                                   'node_id': '0012',\n",
            "                                   'summary': 'This document outlines the process for s...'}]},\n",
            "                       {'title': '第4項 口座開設（一般当座）',\n",
            "                        'node_id': '0013',\n",
            "                        'prefix_summary': '### 第4項 口座開設（一般当座）\\n\\n【事務フロー】\\n\\n![img-0.jpe...',\n",
            "                        'nodes': [{'title': '1. 受 付',\n",
            "                                   'node_id': '0014',\n",
            "                                   'summary': 'This document outlines the procedures fo...'},\n",
            "                                  {'title': '2. 端末機操作',\n",
            "                                   'node_id': '0015',\n",
            "                                   'summary': 'This text describes the process of openi...'},\n",
            "                                  {'title': '3. 決 裁',\n",
            "                                   'node_id': '0016',\n",
            "                                   'summary': 'This section details the approval proces...'},\n",
            "                                  {'title': '4. 交付',\n",
            "                                   'node_id': '0017',\n",
            "                                   'summary': 'This text details the delivery process a...'},\n",
            "                                  {'title': 'E 5',\n",
            "                                   'node_id': '0018',\n",
            "                                   'summary': '#### E 5\\n\\n手数料細目は、「手形小切手取扱手数料」。\\n'},\n",
            "                                  {'title': '5. 事後処理',\n",
            "                                   'node_id': '0019',\n",
            "                                   'summary': 'This document outlines the post-processi...'}]},\n",
            "                       {'title': '第5項入金',\n",
            "                        'node_id': '0020',\n",
            "                        'summary': 'This document outlines the procedures fo...'},\n",
            "                       {'title': '第7項 支払',\n",
            "                        'node_id': '0021',\n",
            "                        'summary': 'This document outlines the procedures fo...'},\n",
            "                       {'title': '第7-2項 手形・小切手の支払',\n",
            "                        'node_id': '0022',\n",
            "                        'summary': 'This document outlines the procedures fo...'}]}]},\n",
            " {'title': '第1章 当座預金', 'node_id': '0023', 'summary': 'This document outlines the procedures fo...'},\n",
            " {'title': '第1章 当座預金',\n",
            "  'node_id': '0024',\n",
            "  'prefix_summary': '# 第1章 当座預金\\n',\n",
            "  'nodes': [{'title': '第1節 基本業務',\n",
            "             'node_id': '0025',\n",
            "             'prefix_summary': '## 第1節 基本業務\\n\\n第8-2項 赤残口座の管理\\n\\n赤残口座がある場合は、随...',\n",
            "             'nodes': [{'title': '1. 当座勘定赤残口座管理票の見方',\n",
            "                        'node_id': '0026',\n",
            "                        'summary': 'The text explains how to interpret the O...'},\n",
            "                       {'title': '3. 赤残照会と確認',\n",
            "                        'node_id': '0027',\n",
            "                        'summary': 'This document outlines the mandatory pro...'},\n",
            "                       {'title': '4. 決 截',\n",
            "                        'node_id': '0028',\n",
            "                        'summary': 'The text details the management and proc...'}]}]},\n",
            " {'title': '第1章 当座預金', 'node_id': '0029', 'summary': 'This document outlines the procedures fo...'},\n",
            " {'title': '第1章 当座預金',\n",
            "  'node_id': '0030',\n",
            "  'prefix_summary': '# 第1章 当座預金\\n',\n",
            "  'nodes': [{'title': '第1節 基本業務',\n",
            "             'node_id': '0031',\n",
            "             'prefix_summary': '## 第1節 基本業務\\n',\n",
            "             'nodes': [{'title': '第11項 支払拒絶(不渡返還)',\n",
            "                        'node_id': '0032',\n",
            "                        'prefix_summary': '### 第11項 支払拒絶(不渡返還)\\n',\n",
            "                        'nodes': [{'title': '1. 不渡の確認',\n",
            "                                   'node_id': '0033',\n",
            "                                   'summary': 'This document outlines the procedure for...'},\n",
            "                                  {'title': '2. 不渡事由',\n",
            "                                   'node_id': '0034',\n",
            "                                   'summary': 'This text details the reasons for non-pa...'},\n",
            "                                  {'title': '3. 決',\n",
            "                                   'node_id': '0035',\n",
            "                                   'prefix_summary': '#### 3. 決\\n'\n",
            "                                                     '\\n'\n",
            "                                                     '(1) 担当者は「被仕向代金取立手形・不渡・組成・返戻手形...',\n",
            "                                   'nodes': [{'title': '【記入例一2】参照',\n",
            "                                              'node_id': '0036',\n",
            "                                              'summary': 'This document outlines the procedures '\n",
            "                                                         'fo...'}]},\n",
            "                                  {'title': '4. 事後処理',\n",
            "                                   'node_id': '0037',\n",
            "                                   'summary': '#### 4. 事後処理\\n'\n",
            "                                              '\\n'\n",
            "                                              '(1) 手形交換所への不渡届の提出は「不渡届」（預流...'}]}]}]},\n",
            " {'title': '第1章 当座預金', 'node_id': '0038', 'summary': 'This document details the procedures for...'},\n",
            " {'title': '第1章 当座預金',\n",
            "  'node_id': '0039',\n",
            "  'prefix_summary': '# 第1章 当座預金\\n',\n",
            "  'nodes': [{'title': '第1節 基本業務',\n",
            "             'node_id': '0040',\n",
            "             'prefix_summary': '## 第1節 基本業務\\n',\n",
            "             'nodes': [{'title': '第13項 異議申立の取扱',\n",
            "                        'node_id': '0041',\n",
            "                        'prefix_summary': 'This text outlines the procedure for han...',\n",
            "                        'nodes': [{'title': '1. 異議申立手続',\n",
            "                                   'node_id': '0042',\n",
            "                                   'summary': 'This section outlines the objection proc...'},\n",
            "                                  {'title': '13.1 目計入金伝票（計301385号）を起票する。',\n",
            "                                   'node_id': '0043',\n",
            "                                   'summary': '#### 13.1 目計入金伝票（計301385号）を起票する。\\n\\n3. 不渡手...'},\n",
            "                                  {'title': '13.2 記入例-1参照',\n",
            "                                   'node_id': '0044',\n",
            "                                   'summary': '#### 13.2 記入例-1参照\\n\\n4. 異議申立預託金預り証（控）は、異議申...'},\n",
            "                                  {'title': '2. 異議申立提供金免除の特例',\n",
            "                                   'node_id': '0045',\n",
            "                                   'summary': 'This text outlines a special provision f...'},\n",
            "                                  {'title': '3. 異議申立提供金の返還',\n",
            "                                   'node_id': '0046',\n",
            "                                   'summary': 'This text outlines the conditions and pr...'},\n",
            "                                  {'title': '4. 異議申立提供金の特例返還',\n",
            "                                   'node_id': '0047',\n",
            "                                   'summary': '#### 4. 異議申立提供金の特例返還\\n\\n手形の不渡が偽造・変造・詐欺・紛失・...'},\n",
            "                                  {'title': '4. 明取、背任、横領等も該当する。',\n",
            "                                   'node_id': '0048',\n",
            "                                   'summary': 'The text covers applicable legal concept...'},\n",
            "                                  {'title': '5. 異議申立預り金の返還',\n",
            "                                   'node_id': '0049',\n",
            "                                   'summary': 'This document outlines the procedure for...'}]}]}]},\n",
            " {'title': '第1章 当座預金', 'node_id': '0050', 'summary': 'This document outlines the comprehensive...'},\n",
            " {'title': '第1章 当座預金', 'node_id': '0051', 'summary': 'This document outlines the procedures fo...'},\n",
            " {'title': '第1章 当座預金', 'node_id': '0052', 'summary': \"This text details the process of 'settle...\"},\n",
            " {'title': '第1章 当座預金', 'node_id': '0053', 'summary': 'This document outlines the procedure for...'},\n",
            " {'title': '第1章 当座預金', 'node_id': '0054', 'summary': 'This document details the procedures for...'},\n",
            " {'title': '第1章 当座預金',\n",
            "  'node_id': '0055',\n",
            "  'prefix_summary': '# 第1章 当座預金\\n',\n",
            "  'nodes': [{'title': '第4節 手形・小切手帳の発行',\n",
            "             'node_id': '0056',\n",
            "             'prefix_summary': '## 第4節 手形・小切手帳の発行\\n\\n第1項 手形・小切手帳の本部集中発行\\n\\n当...',\n",
            "             'nodes': [{'title': '1. 対 象',\n",
            "                        'node_id': '0057',\n",
            "                        'summary': '### 1. 対 象\\n\\n(1) 約束手形用紙（預 001730 号）\\n(2) 当...'},\n",
            "                       {'title': '2. 事務フロー',\n",
            "                        'node_id': '0058',\n",
            "                        'summary': '### 2. 事務フロー\\n\\n![img-22.jpeg](img-22.jpeg...'},\n",
            "                       {'title': '3. 発行依頼受付',\n",
            "                        'node_id': '0059',\n",
            "                        'summary': 'This document outlines the procedure for...'},\n",
            "                       {'title': '4. 到着報告',\n",
            "                        'node_id': '0060',\n",
            "                        'summary': 'This document outlines the procedures fo...'},\n",
            "                       {'title': '5. 交 付',\n",
            "                        'node_id': '0061',\n",
            "                        'summary': 'This section details the process of deli...'},\n",
            "                       {'title': '6. 交付確認',\n",
            "                        'node_id': '0062',\n",
            "                        'summary': 'This document outlines the procedures fo...'},\n",
            "                       {'title': '7. 発行相違・遅延時の取扱',\n",
            "                        'node_id': '0063',\n",
            "                        'summary': '### 7. 発行相違・遅延時の取扱\\n\\n(1) 役席者は、万一、送付された手形・...'},\n",
            "                       {'title': '8. 廃棄処理（共通 050-080）',\n",
            "                        'node_id': '0064',\n",
            "                        'summary': '### 8. 廃棄処理（共通 050-080）\\n\\n(1) 端末機から、一旦、手形...'},\n",
            "                       {'title': '8. 手形・小切手帳（未交付分）の取扱',\n",
            "                        'node_id': '0065',\n",
            "                        'summary': '### 8. 手形・小切手帳（未交付分）の取扱\\n\\n（1） 到着日の当日に取引先に...'},\n",
            "                       {'title': '9. 事務センターの取扱',\n",
            "                        'node_id': '0066',\n",
            "                        'summary': 'The text describes the procedures handle...'}]}]},\n",
            " {'title': '第1章 当座預金', 'node_id': '0067', 'summary': 'This document outlines the internal proc...'},\n",
            " {'title': '第1章 当座預金', 'node_id': '0068', 'summary': 'This document outlines the procedures fo...'},\n",
            " {'title': '第1章 当座預金', 'node_id': '0069', 'summary': 'This document outlines the procedure for...'},\n",
            " {'title': '第2章 普通預金', 'node_id': '0070', 'summary': 'This document describes ordinary deposit...'},\n",
            " {'title': '第2章 普通預金', 'node_id': '0071', 'summary': 'This document outlines the procedures fo...'},\n",
            " {'title': '第2章 普通預金', 'node_id': '0072', 'summary': 'This document outlines the procedures fo...'},\n",
            " {'title': '第2章 普通預金', 'node_id': '0073', 'summary': 'This text covers Chapter 2, Section 1, I...'},\n",
            " {'title': '第2章 普通預金', 'node_id': '0074', 'summary': 'This document details the procedures for...'},\n",
            " {'title': '第2章 普通預金', 'node_id': '0075', 'summary': \"This text defines 'Furi-komi' (付込) as th...\"},\n",
            " {'title': '第2章 普通預金', 'node_id': '0076', 'summary': 'This document details the procedures for...'},\n",
            " {'title': '第2章 普通預金', 'node_id': '0077', 'summary': \"This text defines 'Net Cancellation' (ネッ...\"},\n",
            " {'title': '第2章 普通預金', 'node_id': '0078', 'summary': 'This text, from Chapter 2, Section 1, It...'},\n",
            " {'title': 'E-2 ネット解約の概要（預流 021-071）「2. 取扱の対象」',\n",
            "  'node_id': '0079',\n",
            "  'summary': 'This document outlines the procedures fo...'},\n",
            " {'title': '第2章 普通預金', 'node_id': '0080', 'summary': 'This document outlines the procedure for...'},\n",
            " {'title': '第2章 普通預金', 'node_id': '0081', 'summary': 'This text, from Chapter 2, Section 1, It...'},\n",
            " {'title': '第2章 普通預金', 'node_id': '0082', 'summary': 'This document outlines the procedures fo...'},\n",
            " {'title': '第2章 普通預金', 'node_id': '0083', 'summary': 'This document outlines the procedures fo...'},\n",
            " {'title': '第2章 普通預金', 'node_id': '0084', 'summary': \"This document details the 'Comprehensive...\"},\n",
            " {'title': '第2章 普通預金', 'node_id': '0085', 'summary': 'This document outlines the procedures fo...'},\n",
            " {'title': '第2章 普通預金', 'node_id': '0086', 'summary': 'This document outlines the procedures fo...'},\n",
            " {'title': '第2章 普通預金', 'node_id': '0087', 'summary': 'This text details the procedures for han...'},\n",
            " {'title': '第2章 普通預金', 'node_id': '0088', 'summary': 'This document details the procedures for...'},\n",
            " {'title': '第4章 貯蓄預金', 'node_id': '0089', 'summary': 'This document details the features and r...'},\n",
            " {'title': '第5章 別段預金', 'node_id': '0090', 'summary': \"This text defines and details the 'separ...\"},\n",
            " {'title': '第5章 別段預金', 'node_id': '0091', 'summary': 'This document outlines the procedures fo...'},\n",
            " {'title': '第5章 別段預金', 'node_id': '0092', 'summary': 'This document details the procedures for...'},\n",
            " {'title': '第5章 別段預金', 'node_id': '0093', 'summary': 'This document outlines the payment proce...'},\n",
            " {'title': '第5章 別段預金', 'node_id': '0094', 'summary': 'This document outlines the procedure for...'},\n",
            " {'title': '第5章 別段預金', 'node_id': '0095', 'summary': '本章節は、別段預金の残高照合と管理について詳述しています。別段預金は常に整理し、...'},\n",
            " {'title': '第5章 別段預金',\n",
            "  'node_id': '0096',\n",
            "  'summary': '# 第5章 別段預金\\n\\n## 第1節 基本業務\\n\\n### 第7項 細目別内容一覧...'},\n",
            " {'title': '第5章 別段預金', 'node_id': '0097', 'summary': 'This document outlines the procedures fo...'},\n",
            " {'title': '第5章 別段預金', 'node_id': '0098', 'summary': 'This text details the procedures for han...'},\n",
            " {'title': '第7章 キャッシュカード',\n",
            "  'node_id': '0099',\n",
            "  'summary': 'This chapter defines cash cards and IC c...'},\n",
            " {'title': '第7章 キャッシュカード',\n",
            "  'node_id': '0100',\n",
            "  'summary': 'This document outlines the procedures fo...'},\n",
            " {'title': '第7章 キャッシュカード',\n",
            "  'node_id': '0101',\n",
            "  'summary': 'This document outlines the procedures fo...'},\n",
            " {'title': '第7章 キャッシュカード',\n",
            "  'node_id': '0102',\n",
            "  'summary': 'This document outlines the procedures fo...'},\n",
            " {'title': '第7章 キャッシュカード',\n",
            "  'node_id': '0103',\n",
            "  'prefix_summary': '# 第7章 キャッシュカード\\n',\n",
            "  'nodes': [{'title': '第1節 キャッシュカード',\n",
            "             'node_id': '0104',\n",
            "             'prefix_summary': '## 第1節 キャッシュカード\\n\\n第3-2項 カード利用中止の取扱\\n\\n預金者より...',\n",
            "             'nodes': [{'title': '1. 受 付',\n",
            "                        'node_id': '0105',\n",
            "                        'summary': 'This document outlines the procedure for...'},\n",
            "                       {'title': '2. 端末機操作',\n",
            "                        'node_id': '0106',\n",
            "                        'summary': '### 2. 端末機操作\\n\\n（1）端末機からカード回収操作を行い、廃止届に認証印...'},\n",
            "                       {'title': '3. 決 裁',\n",
            "                        'node_id': '0107',\n",
            "                        'summary': 'This document outlines the procedure for...'}]}]},\n",
            " {'title': '第7章 キャッシュカード',\n",
            "  'node_id': '0108',\n",
            "  'summary': 'This document outlines the procedures fo...'},\n",
            " {'title': '第7章 キャッシュカード',\n",
            "  'node_id': '0109',\n",
            "  'summary': 'This document outlines the procedures fo...'},\n",
            " {'title': '第7章 キャッシュカード',\n",
            "  'node_id': '0110',\n",
            "  'summary': 'This document outlines the procedure for...'},\n",
            " {'title': '第7章 キャッシュカード',\n",
            "  'node_id': '0111',\n",
            "  'summary': 'This document outlines the procedures fo...'},\n",
            " {'title': '第7章 キャッシュカード',\n",
            "  'node_id': '0112',\n",
            "  'summary': 'This document outlines the procedures fo...'},\n",
            " {'title': '第7章 キャッシュカード',\n",
            "  'node_id': '0113',\n",
            "  'summary': 'This document outlines the procedures fo...'},\n",
            " {'title': '第7章 キャッシュカード',\n",
            "  'node_id': '0114',\n",
            "  'summary': 'This document outlines the procedures fo...'},\n",
            " {'title': '第7章 キャッシュカード',\n",
            "  'node_id': '0115',\n",
            "  'summary': 'This document outlines the procedures fo...'}]\n"
          ]
        }
      ],
      "source": [
        "if pi_client.is_retrieval_ready(doc_id):\n",
        "    tree = pi_client.get_tree(doc_id, node_summary=True)['result']\n",
        "    print('Simplified Tree Structure of the Document:')\n",
        "    utils.print_tree(tree)\n",
        "else:\n",
        "    print(\"Processing document, please try again later...\")"
      ]
    },
    {
      "cell_type": "markdown",
      "metadata": {
        "id": "USoCLOiQcG1O"
      },
      "source": [
        "## Step 2: Reasoning-Based Retrieval with Tree Search"
      ]
    },
    {
      "cell_type": "markdown",
      "metadata": {},
      "source": [
        "#### 2.1 Use LLM for tree search and identify nodes that might contain relevant context"
      ]
    },
    {
      "cell_type": "code",
      "execution_count": 7,
      "metadata": {
        "id": "LLHNJAtTcG1O"
      },
      "outputs": [],
      "source": [
        "import json\n",
        "\n",
        "query = \"What are the conclusions in this document?\"\n",
        "\n",
        "tree_without_text = utils.remove_fields(tree.copy(), fields=['text'])\n",
        "\n",
        "search_prompt = f\"\"\"\n",
        "You are given a question and a tree structure of a document.\n",
        "Each node contains a node id, node title, and a corresponding summary.\n",
        "Your task is to find all nodes that are likely to contain the answer to the question.\n",
        "\n",
        "Question: {query}\n",
        "\n",
        "Document tree structure:\n",
        "{json.dumps(tree_without_text, indent=2)}\n",
        "\n",
        "Please reply in the following JSON format:\n",
        "{{\n",
        "    \"thinking\": \"<Your thinking process on which nodes are relevant to the question>\",\n",
        "    \"node_list\": [\"node_id_1\", \"node_id_2\", ..., \"node_id_n\"]\n",
        "}}\n",
        "Directly return the final JSON structure. Do not output anything else.\n",
        "\"\"\"\n",
        "\n",
        "tree_search_result = await call_llm(search_prompt)"
      ]
    },
    {
      "cell_type": "markdown",
      "metadata": {},
      "source": [
        "#### 2.2 Print retrieved nodes and reasoning process"
      ]
    },
    {
      "cell_type": "code",
      "execution_count": 8,
      "metadata": {
        "colab": {
          "base_uri": "https://localhost:8080/",
          "height": 206
        },
        "id": "P8DVUOuAen5u",
        "outputId": "6bb6d052-ef30-4716-f88e-be98bcb7ebdb"
      },
      "outputs": [
        {
          "ename": "JSONDecodeError",
          "evalue": "Expecting value: line 1 column 1 (char 0)",
          "output_type": "error",
          "traceback": [
            "\u001b[31m---------------------------------------------------------------------------\u001b[39m",
            "\u001b[31mJSONDecodeError\u001b[39m                           Traceback (most recent call last)",
            "\u001b[36mCell\u001b[39m\u001b[36m \u001b[39m\u001b[32mIn[8]\u001b[39m\u001b[32m, line 2\u001b[39m\n\u001b[32m      1\u001b[39m node_map = utils.create_node_mapping(tree)\n\u001b[32m----> \u001b[39m\u001b[32m2\u001b[39m tree_search_result_json = \u001b[43mjson\u001b[49m\u001b[43m.\u001b[49m\u001b[43mloads\u001b[49m\u001b[43m(\u001b[49m\u001b[43mtree_search_result\u001b[49m\u001b[43m)\u001b[49m\n\u001b[32m      4\u001b[39m \u001b[38;5;28mprint\u001b[39m(\u001b[33m'\u001b[39m\u001b[33mReasoning Process:\u001b[39m\u001b[33m'\u001b[39m)\n\u001b[32m      5\u001b[39m utils.print_wrapped(tree_search_result_json[\u001b[33m'\u001b[39m\u001b[33mthinking\u001b[39m\u001b[33m'\u001b[39m])\n",
            "\u001b[36mFile \u001b[39m\u001b[32m~\\AppData\\Local\\Programs\\Python\\Python313\\Lib\\json\\__init__.py:346\u001b[39m, in \u001b[36mloads\u001b[39m\u001b[34m(s, cls, object_hook, parse_float, parse_int, parse_constant, object_pairs_hook, **kw)\u001b[39m\n\u001b[32m    341\u001b[39m     s = s.decode(detect_encoding(s), \u001b[33m'\u001b[39m\u001b[33msurrogatepass\u001b[39m\u001b[33m'\u001b[39m)\n\u001b[32m    343\u001b[39m \u001b[38;5;28;01mif\u001b[39;00m (\u001b[38;5;28mcls\u001b[39m \u001b[38;5;129;01mis\u001b[39;00m \u001b[38;5;28;01mNone\u001b[39;00m \u001b[38;5;129;01mand\u001b[39;00m object_hook \u001b[38;5;129;01mis\u001b[39;00m \u001b[38;5;28;01mNone\u001b[39;00m \u001b[38;5;129;01mand\u001b[39;00m\n\u001b[32m    344\u001b[39m         parse_int \u001b[38;5;129;01mis\u001b[39;00m \u001b[38;5;28;01mNone\u001b[39;00m \u001b[38;5;129;01mand\u001b[39;00m parse_float \u001b[38;5;129;01mis\u001b[39;00m \u001b[38;5;28;01mNone\u001b[39;00m \u001b[38;5;129;01mand\u001b[39;00m\n\u001b[32m    345\u001b[39m         parse_constant \u001b[38;5;129;01mis\u001b[39;00m \u001b[38;5;28;01mNone\u001b[39;00m \u001b[38;5;129;01mand\u001b[39;00m object_pairs_hook \u001b[38;5;129;01mis\u001b[39;00m \u001b[38;5;28;01mNone\u001b[39;00m \u001b[38;5;129;01mand\u001b[39;00m \u001b[38;5;129;01mnot\u001b[39;00m kw):\n\u001b[32m--> \u001b[39m\u001b[32m346\u001b[39m     \u001b[38;5;28;01mreturn\u001b[39;00m \u001b[43m_default_decoder\u001b[49m\u001b[43m.\u001b[49m\u001b[43mdecode\u001b[49m\u001b[43m(\u001b[49m\u001b[43ms\u001b[49m\u001b[43m)\u001b[49m\n\u001b[32m    347\u001b[39m \u001b[38;5;28;01mif\u001b[39;00m \u001b[38;5;28mcls\u001b[39m \u001b[38;5;129;01mis\u001b[39;00m \u001b[38;5;28;01mNone\u001b[39;00m:\n\u001b[32m    348\u001b[39m     \u001b[38;5;28mcls\u001b[39m = JSONDecoder\n",
            "\u001b[36mFile \u001b[39m\u001b[32m~\\AppData\\Local\\Programs\\Python\\Python313\\Lib\\json\\decoder.py:345\u001b[39m, in \u001b[36mJSONDecoder.decode\u001b[39m\u001b[34m(self, s, _w)\u001b[39m\n\u001b[32m    340\u001b[39m \u001b[38;5;28;01mdef\u001b[39;00m\u001b[38;5;250m \u001b[39m\u001b[34mdecode\u001b[39m(\u001b[38;5;28mself\u001b[39m, s, _w=WHITESPACE.match):\n\u001b[32m    341\u001b[39m \u001b[38;5;250m    \u001b[39m\u001b[33;03m\"\"\"Return the Python representation of ``s`` (a ``str`` instance\u001b[39;00m\n\u001b[32m    342\u001b[39m \u001b[33;03m    containing a JSON document).\u001b[39;00m\n\u001b[32m    343\u001b[39m \n\u001b[32m    344\u001b[39m \u001b[33;03m    \"\"\"\u001b[39;00m\n\u001b[32m--> \u001b[39m\u001b[32m345\u001b[39m     obj, end = \u001b[38;5;28;43mself\u001b[39;49m\u001b[43m.\u001b[49m\u001b[43mraw_decode\u001b[49m\u001b[43m(\u001b[49m\u001b[43ms\u001b[49m\u001b[43m,\u001b[49m\u001b[43m \u001b[49m\u001b[43midx\u001b[49m\u001b[43m=\u001b[49m\u001b[43m_w\u001b[49m\u001b[43m(\u001b[49m\u001b[43ms\u001b[49m\u001b[43m,\u001b[49m\u001b[43m \u001b[49m\u001b[32;43m0\u001b[39;49m\u001b[43m)\u001b[49m\u001b[43m.\u001b[49m\u001b[43mend\u001b[49m\u001b[43m(\u001b[49m\u001b[43m)\u001b[49m\u001b[43m)\u001b[49m\n\u001b[32m    346\u001b[39m     end = _w(s, end).end()\n\u001b[32m    347\u001b[39m     \u001b[38;5;28;01mif\u001b[39;00m end != \u001b[38;5;28mlen\u001b[39m(s):\n",
            "\u001b[36mFile \u001b[39m\u001b[32m~\\AppData\\Local\\Programs\\Python\\Python313\\Lib\\json\\decoder.py:363\u001b[39m, in \u001b[36mJSONDecoder.raw_decode\u001b[39m\u001b[34m(self, s, idx)\u001b[39m\n\u001b[32m    361\u001b[39m     obj, end = \u001b[38;5;28mself\u001b[39m.scan_once(s, idx)\n\u001b[32m    362\u001b[39m \u001b[38;5;28;01mexcept\u001b[39;00m \u001b[38;5;167;01mStopIteration\u001b[39;00m \u001b[38;5;28;01mas\u001b[39;00m err:\n\u001b[32m--> \u001b[39m\u001b[32m363\u001b[39m     \u001b[38;5;28;01mraise\u001b[39;00m JSONDecodeError(\u001b[33m\"\u001b[39m\u001b[33mExpecting value\u001b[39m\u001b[33m\"\u001b[39m, s, err.value) \u001b[38;5;28;01mfrom\u001b[39;00m\u001b[38;5;250m \u001b[39m\u001b[38;5;28;01mNone\u001b[39;00m\n\u001b[32m    364\u001b[39m \u001b[38;5;28;01mreturn\u001b[39;00m obj, end\n",
            "\u001b[31mJSONDecodeError\u001b[39m: Expecting value: line 1 column 1 (char 0)"
          ]
        }
      ],
      "source": [
        "node_map = utils.create_node_mapping(tree)\n",
        "tree_search_result_json = json.loads(tree_search_result)\n",
        "\n",
        "print('Reasoning Process:')\n",
        "utils.print_wrapped(tree_search_result_json['thinking'])\n",
        "\n",
        "print('\\nRetrieved Nodes:')\n",
        "for node_id in tree_search_result_json[\"node_list\"]:\n",
        "    node = node_map[node_id]\n",
        "    print(f\"Node ID: {node['node_id']}\\t Page: {node['page_index']}\\t Title: {node['title']}\")"
      ]
    },
    {
      "cell_type": "markdown",
      "metadata": {
        "id": "10wOZDG_cG1O"
      },
      "source": [
        "## Step 3: Answer Generation"
      ]
    },
    {
      "cell_type": "markdown",
      "metadata": {},
      "source": [
        "#### 3.1 Extract relevant context from retrieved nodes"
      ]
    },
    {
      "cell_type": "code",
      "execution_count": 58,
      "metadata": {
        "colab": {
          "base_uri": "https://localhost:8080/",
          "height": 279
        },
        "id": "a7UCBnXlcG1O",
        "outputId": "8a026ea3-4ef3-473a-a57b-b4565409749e"
      },
      "outputs": [
        {
          "name": "stdout",
          "output_type": "stream",
          "text": [
            "Retrieved Context:\n",
            "\n",
            "## 5. Conclusion, Limitations, and Future Work\n",
            "\n",
            "In this work, we share our journey in enhancing model reasoning abilities through reinforcement\n",
            "learning. DeepSeek-R1-Zero represents a pure RL approach without relying on cold-start data,\n",
            "achieving strong performance across various tasks. DeepSeek-R1 is more powerful, leveraging cold-\n",
            "start data alongside iterative RL fine-tuning. Ultimately, DeepSeek-R1 achieves performance\n",
            "comparable to OpenAI-o1-1217 on a range of tasks.\n",
            "\n",
            "We further explore distillation the reasoning capability to small dense models. We use DeepSeek-R1\n",
            "as the teacher model to generate 800K training samples, and fine-tune several small dense models.\n",
            "The results are promising: DeepSeek-R1-Distill-Qwen-1.5B outperforms GPT-4o and Claude-3.5-Sonnet on\n",
            "math benchmarks with $28.9 \\%$ on AIME and $83.9 \\%$ on MATH. Other dense models also achieve\n",
            "impressive results, significantly outperforming other instructiontuned models based on the same\n",
            "underlying checkpoints.\n",
            "\n",
            "In the fut...\n"
          ]
        }
      ],
      "source": [
        "node_list = json.loads(tree_search_result)[\"node_list\"]\n",
        "relevant_content = \"\\n\\n\".join(node_map[node_id][\"text\"] for node_id in node_list)\n",
        "\n",
        "print('Retrieved Context:\\n')\n",
        "utils.print_wrapped(relevant_content[:1000] + '...')"
      ]
    },
    {
      "cell_type": "markdown",
      "metadata": {},
      "source": [
        "#### 3.2 Generate answer based on retrieved context"
      ]
    },
    {
      "cell_type": "code",
      "execution_count": 59,
      "metadata": {
        "colab": {
          "base_uri": "https://localhost:8080/",
          "height": 210
        },
        "id": "tcp_PhHzcG1O",
        "outputId": "187ff116-9bb0-4ab4-bacb-13944460b5ff"
      },
      "outputs": [
        {
          "name": "stdout",
          "output_type": "stream",
          "text": [
            "Generated Answer:\n",
            "\n",
            "The conclusions in this document are:\n",
            "\n",
            "- DeepSeek-R1-Zero, a pure reinforcement learning (RL) approach without cold-start data, achieves\n",
            "strong performance across various tasks.\n",
            "- DeepSeek-R1, which combines cold-start data with iterative RL fine-tuning, is more powerful and\n",
            "achieves performance comparable to OpenAI-o1-1217 on a range of tasks.\n",
            "- Distilling DeepSeek-R1’s reasoning capabilities into smaller dense models is promising; for\n",
            "example, DeepSeek-R1-Distill-Qwen-1.5B outperforms GPT-4o and Claude-3.5-Sonnet on math benchmarks,\n",
            "and other dense models also show significant improvements over similar instruction-tuned models.\n",
            "\n",
            "These results demonstrate the effectiveness of the RL-based approach and the potential for\n",
            "distilling reasoning abilities into smaller models.\n"
          ]
        }
      ],
      "source": [
        "answer_prompt = f\"\"\"\n",
        "Answer the question based on the context:\n",
        "\n",
        "Question: {query}\n",
        "Context: {relevant_content}\n",
        "\n",
        "Provide a clear, concise answer based only on the context provided.\n",
        "\"\"\"\n",
        "\n",
        "print('Generated Answer:\\n')\n",
        "answer = await call_llm(answer_prompt)\n",
        "utils.print_wrapped(answer)"
      ]
    },
    {
      "cell_type": "markdown",
      "metadata": {
        "id": "_1kaGD3GcG1O"
      },
      "source": [
        "---\n",
        "\n",
        "## 🎯 What's Next\n",
        "\n",
        "This notebook has demonstrated a **basic**, **minimal** example of **reasoning-based**, **vectorless** RAG with PageIndex. The workflow illustrates the core idea:\n",
        "> *Generating a hierarchical tree structure from a document, reasoning over that tree structure, and extracting relevant context, without relying on a vector database or top-k similarity search*.\n",
        "\n",
        "While this notebook highlights a minimal workflow, the PageIndex framework is built to support **far more advanced** use cases. In upcoming tutorials, we will introduce:\n",
        "* **Multi-Node Reasoning with Content Extraction** — Scale tree search to extract and select relevant content from multiple nodes.\n",
        "* **Multi-Document Search** — Enable reasoning-based navigation across large document collections, extending beyond a single file.\n",
        "* **Efficient Tree Search** — Improve tree search efficiency for long documents with a large number of nodes.\n",
        "* **Expert Knowledge Integration and Preference Alignment** — Incorporate user preferences or expert insights by adding knowledge directly into the LLM tree search, without the need for fine-tuning.\n",
        "\n"
      ]
    },
    {
      "cell_type": "markdown",
      "metadata": {},
      "source": [
        "## 🔎 Learn More About PageIndex\n",
        "  <a href=\"https://vectify.ai\">🏠 Homepage</a>&nbsp; • &nbsp;\n",
        "  <a href=\"https://dash.pageindex.ai\">🖥️ Dashboard</a>&nbsp; • &nbsp;\n",
        "  <a href=\"https://docs.pageindex.ai/quickstart\">📚 API Docs</a>&nbsp; • &nbsp;\n",
        "  <a href=\"https://github.com/VectifyAI/PageIndex\">📦 GitHub</a>&nbsp; • &nbsp;\n",
        "  <a href=\"https://discord.com/invite/VuXuf29EUj\">💬 Discord</a>&nbsp; • &nbsp;\n",
        "  <a href=\"https://ii2abc2jejf.typeform.com/to/tK3AXl8T\">✉️ Contact</a>\n",
        "\n",
        "<br>\n",
        "\n",
        "© 2025 [Vectify AI](https://vectify.ai)"
      ]
    }
  ],
  "metadata": {
    "colab": {
      "provenance": []
    },
    "kernelspec": {
      "display_name": "shiga-venv (3.13.5)",
      "language": "python",
      "name": "python3"
    },
    "language_info": {
      "codemirror_mode": {
        "name": "ipython",
        "version": 3
      },
      "file_extension": ".py",
      "mimetype": "text/x-python",
      "name": "python",
      "nbconvert_exporter": "python",
      "pygments_lexer": "ipython3",
      "version": "3.13.5"
    }
  },
  "nbformat": 4,
  "nbformat_minor": 0
}
